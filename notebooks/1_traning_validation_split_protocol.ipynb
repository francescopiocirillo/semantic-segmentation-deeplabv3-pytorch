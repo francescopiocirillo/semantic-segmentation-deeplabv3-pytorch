{
 "cells": [
  {
   "cell_type": "code",
   "id": "initial_id",
   "metadata": {
    "collapsed": true
   },
   "source": [
    "from google.colab import drive\n",
    "drive.mount('/content/drive')"
   ],
   "outputs": [],
   "execution_count": null
  },
  {
   "metadata": {},
   "cell_type": "code",
   "source": [
    "import sys\n",
    "\n",
    "folder_path = '/content/drive/MyDrive/Colab Notebooks/DLRN101021/'\n",
    "sys.path.append(folder_path)"
   ],
   "id": "88f88af2b0f4c33f",
   "outputs": [],
   "execution_count": null
  },
  {
   "metadata": {
    "ExecuteTime": {
     "end_time": "2025-07-09T19:40:54.874784Z",
     "start_time": "2025-07-09T19:40:52.938525Z"
    }
   },
   "cell_type": "code",
   "source": [
    "!pip install iterative-stratification\n",
    "COLOR_TO_CLASS_NAME_MAP = {\n",
    "    (255, 255, 255): \"background\",\n",
    "    (1, 88, 255): \"sky\",\n",
    "    (156, 76, 30): \"rough trail\",\n",
    "    (178, 176, 153): \"smooth trail\",\n",
    "    (128, 255, 0): \"traversable grass\",\n",
    "    (40, 80, 0): \"high vegetation\",\n",
    "    (0, 160, 0): \"non-traversable low vegetation\",\n",
    "    (255, 0, 128): \"puddle\",\n",
    "    (255, 0, 0): \"obstacle\",\n",
    "}\n",
    "\n",
    "CLASS_CODE_TO_CLASS_NAME_MAP = {\n",
    "    4: \"puddle\",\n",
    "    5: \"obstacle\",\n",
    "    0: \"background\",\n",
    "    6: \"non-traversable low vegetation\",\n",
    "    8: \"sky\",\n",
    "    2: \"traversable grass\",\n",
    "    1: \"smooth trail\",\n",
    "    3: \"rough trail\",\n",
    "    7: \"high vegetation\",\n",
    "}"
   ],
   "id": "57ff0112f7f9ea6b",
   "outputs": [
    {
     "name": "stdout",
     "output_type": "stream",
     "text": [
      "Requirement already satisfied: iterative-stratification in c:\\users\\franc\\.conda\\envs\\machine-learning\\lib\\site-packages (0.1.9)\n",
      "Requirement already satisfied: numpy in c:\\users\\franc\\.conda\\envs\\machine-learning\\lib\\site-packages (from iterative-stratification) (2.2.3)\n",
      "Requirement already satisfied: scipy in c:\\users\\franc\\.conda\\envs\\machine-learning\\lib\\site-packages (from iterative-stratification) (1.15.3)\n",
      "Requirement already satisfied: scikit-learn in c:\\users\\franc\\.conda\\envs\\machine-learning\\lib\\site-packages (from iterative-stratification) (1.6.1)\n",
      "Requirement already satisfied: joblib>=1.2.0 in c:\\users\\franc\\.conda\\envs\\machine-learning\\lib\\site-packages (from scikit-learn->iterative-stratification) (1.4.2)\n",
      "Requirement already satisfied: threadpoolctl>=3.1.0 in c:\\users\\franc\\.conda\\envs\\machine-learning\\lib\\site-packages (from scikit-learn->iterative-stratification) (3.5.0)\n"
     ]
    }
   ],
   "execution_count": 5
  },
  {
   "metadata": {
    "ExecuteTime": {
     "end_time": "2025-07-09T19:40:57.177232Z",
     "start_time": "2025-07-09T19:40:57.126416Z"
    }
   },
   "cell_type": "code",
   "source": [
    "# CONFIGURAZIONE\n",
    "import torch.optim as optim\n",
    "from torchvision import models\n",
    "import torch\n",
    "import numpy as np\n",
    "\n",
    "NUM_CLASSES = 9\n",
    "DATASET_DIR = '/content/drive/MyDrive/training_sets/train/'\n",
    "DEVICE = torch.device('cuda' if torch.cuda.is_available() else 'cpu')\n",
    "print(f\"Using device: {DEVICE}\")\n",
    "if DEVICE.type == \"cuda\":\n",
    "    print(f\"GPU Name: {torch.cuda.get_device_name(DEVICE)}\")"
   ],
   "id": "6e3c1a609815ad3f",
   "outputs": [
    {
     "name": "stdout",
     "output_type": "stream",
     "text": [
      "Using device: cuda\n",
      "GPU Name: NVIDIA GeForce GTX 1650 Ti\n"
     ]
    }
   ],
   "execution_count": 6
  },
  {
   "metadata": {
    "ExecuteTime": {
     "end_time": "2025-07-09T19:41:07.017580Z",
     "start_time": "2025-07-09T19:40:59.851217Z"
    }
   },
   "cell_type": "code",
   "source": [
    "import random\n",
    "import numpy as np\n",
    "from PIL import Image\n",
    "import os\n",
    "from iterstrat.ml_stratifiers import MultilabelStratifiedShuffleSplit\n",
    "import json\n",
    "\n",
    "# sample male etichettati\n",
    "excluded_dirs = {\n",
    "    \"0007\", \"0009\", \"0090\", \"0095\", \"0101\", \"0104\", \"0105\",\n",
    "    \"0162\", \"0163\", \"0284\", \"0305\", \"0306\", \"0307\", \"0308\", \"0309\", \"0310\", \"0311\",\n",
    "    \"0351\", \"0372\", \"0373\", \"0376\",\n",
    "    \"0498\", \"0499\", \"0500\", \"0501\", \"0526\", \"0527\", \"0530\", \"0531\", \"0542\",\n",
    "    \"0564\", \"0585\", \"0586\", \"0587\", \"0588\", \"0589\", \"0590\",\n",
    "    #seguono nuovo immagini da escludere\n",
    "    \"0000\", \"0001\", \"0052\"\n",
    "}\n",
    "\n",
    "# Elenco di cartelle numeriche valide\n",
    "all_dirs = sorted([\n",
    "    d for d in os.listdir(DATASET_DIR)\n",
    "    if os.path.isdir(os.path.join(DATASET_DIR, d)) and d.isdigit() and d not in excluded_dirs\n",
    "])\n",
    "\n",
    "#  COSTRUZIONE DELLA MATRICE MULTILABEL\n",
    "def build_presence_matrix(dir_list, n_classes=9):\n",
    "    \"\"\"Restituisce un np.array (n_sample, n_classes) con booleani indicanti la presenza o meno della classe\"\"\"\n",
    "    presence = np.zeros((len(dir_list), n_classes), dtype=int)\n",
    "\n",
    "    for idx, d in enumerate(dir_list):\n",
    "        label_path = os.path.join(DATASET_DIR, d, \"labels.png\")\n",
    "        lbl = np.array(Image.open(label_path))\n",
    "        uniq = np.unique(lbl)\n",
    "        presence[idx, uniq] = 1          # segna le classi presenti\n",
    "    return presence\n",
    "\n",
    "Y = build_presence_matrix(all_dirs, NUM_CLASSES)\n",
    "\n",
    "#  MULTILABEL STRATIFIED SPLIT\n",
    "msss = MultilabelStratifiedShuffleSplit(n_splits=1, test_size=0.20, random_state=42)\n",
    "train_idx, val_idx = next(msss.split(np.zeros(len(all_dirs)), Y))\n",
    "\n",
    "train_ids = [all_dirs[i] for i in train_idx]\n",
    "val_ids   = [all_dirs[i] for i in val_idx]\n",
    "\n",
    "print(\"Campioni:\", len(train_ids), \"train |\", len(val_ids), \"val\")"
   ],
   "id": "437d965fce54fab1",
   "outputs": [
    {
     "name": "stdout",
     "output_type": "stream",
     "text": [
      "Campioni: 714 train | 177 val\n"
     ]
    }
   ],
   "execution_count": 7
  },
  {
   "metadata": {
    "ExecuteTime": {
     "end_time": "2025-07-09T19:41:08.772424Z",
     "start_time": "2025-07-09T19:41:08.766454Z"
    }
   },
   "cell_type": "code",
   "source": [
    "# Salvataggio split nel caso si voglia riutilizzare\n",
    "val_ids_clean = [os.path.basename(path) for path in val_ids]\n",
    "\n",
    "with open(\"val_ids.json\", \"w\") as f:\n",
    "    json.dump(val_ids_clean, f, indent=4)"
   ],
   "id": "321833166a7dda57",
   "outputs": [],
   "execution_count": 9
  }
 ],
 "metadata": {
  "kernelspec": {
   "display_name": "Python 3",
   "language": "python",
   "name": "python3"
  },
  "language_info": {
   "codemirror_mode": {
    "name": "ipython",
    "version": 2
   },
   "file_extension": ".py",
   "mimetype": "text/x-python",
   "name": "python",
   "nbconvert_exporter": "python",
   "pygments_lexer": "ipython2",
   "version": "2.7.6"
  }
 },
 "nbformat": 4,
 "nbformat_minor": 5
}
